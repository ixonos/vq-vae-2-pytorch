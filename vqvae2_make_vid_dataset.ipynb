{
 "cells": [
  {
   "cell_type": "code",
   "execution_count": 1,
   "metadata": {},
   "outputs": [],
   "source": [
    "import argparse\n",
    "import os\n",
    "import glob\n",
    "import numpy as np\n",
    "from matplotlib import pyplot as plt\n",
    "\n",
    "import torch\n",
    "from torch import nn, optim\n",
    "from torch.utils.data import DataLoader\n",
    "\n",
    "from torchvision import datasets, transforms, utils\n",
    "\n",
    "from tqdm import tqdm\n",
    "\n",
    "from vqvae import VQVAE\n",
    "from scheduler import CycleScheduler"
   ]
  },
  {
   "cell_type": "code",
   "execution_count": 2,
   "metadata": {},
   "outputs": [],
   "source": [
    "# grab the names of the pre-processed video files\n",
    "video_filenames_proc = glob.glob('/home/jarrod/dev/speech-driven-animation/data/aligned_faces/*.npy')\n",
    "\n",
    "# delete bad entries\n",
    "bad_files = ['bgit2n', 'lbij7a', 'lrbr3s', 'pbio7a', 'sbaa4p', 'sgwp8p', 'sbim8p', \n",
    "             'srwi5a', 'swao7a', 'srbb4n', 'sbbbzp', 'lrae3s']\n",
    "\n",
    "for i,f in enumerate(video_filenames_proc):\n",
    "    \n",
    "    for bad in bad_files:\n",
    "        if f.find(bad) != -1:\n",
    "            del video_filenames_proc[i]\n",
    "            break"
   ]
  },
  {
   "cell_type": "code",
   "execution_count": 3,
   "metadata": {},
   "outputs": [],
   "source": [
    "class getDataSample():\n",
    "    def __init__(self, gpu=1):\n",
    "\n",
    "        self.audio_path = '/home/jarrod/dev/speech-driven-animation/data/npy_audio/'\n",
    "        self.device = torch.device(\"cuda:\" + str(gpu))\n",
    "\n",
    "        self.mean_face = np.load('/home/jarrod/dev/speech-driven-animation/data/mean_face.npy')\n",
    "        self.img_size = (128,128)\n",
    "        self.aux_latent = 10\n",
    "        self.sequential_noise = True\n",
    "    \n",
    "        rnn_gen_dim = 256\n",
    "        id_enc_dim = 128\n",
    "        aud_enc_dim = 256\n",
    "        audio_feat_len = 0.2\n",
    "        self.audio_rate = 50000\n",
    "        self.video_rate = 25\n",
    "        self.audio_feat_samples = 10000\n",
    "        self.conversion_dict = {'s16': np.int16, 's32': np.int32}\n",
    "        \n",
    "        # image preprocessing\n",
    "        self.img_transform = transforms.Compose([\n",
    "            transforms.ToPILImage(),\n",
    "            transforms.Resize((self.img_size[0], self.img_size[1])),\n",
    "            transforms.ToTensor(),\n",
    "            transforms.Normalize((0.5, 0.5, 0.5), (0.5, 0.5, 0.5))])\n",
    "\n",
    "\n",
    "    def preprocess_img(self, img):\n",
    "        src = self.fa.get_landmarks(img)[0][self.stablePntsIDs, :]\n",
    "        dst = self.mean_face[self.stablePntsIDs, :]\n",
    "        tform = tf.estimate_transform('similarity', src, dst)  # find the transformation matrix\n",
    "        warped = tf.warp(img, inverse_map=tform.inverse, output_shape=self.img_size)  # wrap the frame image\n",
    "        warped = warped * 255  # note output from wrap is double image (value range [0,1])\n",
    "        warped = warped.astype('uint8')\n",
    "\n",
    "        return warped\n",
    "\n",
    "    def __call__(self, filename, num_d1_samples, fs=None, aligned=False):\n",
    "        \n",
    "        audio_filename = self.audio_path + filename.split('/')[-1].split('.npy')[0] + '.wav.npy'\n",
    "        \n",
    "       \n",
    "    \n",
    "        vid_data = np.load(filename)\n",
    "        frame = np.copy(vid_data[0])\n",
    "                \n",
    "        # take the input image and preprocess it    \n",
    "        frame = self.img_transform(frame)\n",
    "            \n",
    "        frame = frame.unsqueeze(0)\n",
    "        \n",
    "        # Load preprocessed audio data\n",
    "        audio_feat_seq = np.load(audio_filename)\n",
    "        \n",
    "        audio_feat_seq = torch.Tensor(audio_feat_seq)\n",
    "        audio_feat_seq_length = audio_feat_seq.shape[1]\n",
    "                \n",
    "        samp = np.random.rand(num_d1_samples)*audio_feat_seq_length\n",
    "        samp = samp.astype(int)\n",
    "\n",
    "        \n",
    "        normed_vid_data = []\n",
    "        \n",
    "        for i, img in enumerate(vid_data):\n",
    "            normed_vid_data.append((self.img_transform(img)+ 1.0) / 2.0)\n",
    "        \n",
    "        normed_vid_data = torch.stack(normed_vid_data)\n",
    "        \n",
    "#         d1_frames = normed_vid_data[samp]\n",
    "\n",
    "        # shuffle the id frames, otherwise the discriminator learns too fast    \n",
    "#         np.random.shuffle(samp)\n",
    "#         d1_frames_shuff = normed_vid_data[samp]\n",
    "\n",
    "#         frame_c = frame.repeat(num_d1_samples,1,1,1) \n",
    "        # concat the id_frame onto the back of axis 1 (indices 3:)\n",
    "#         d1_frames = torch.cat((d1_frames, d1_frames_shuff), axis=1)\n",
    "        \n",
    "        \n",
    "        return audio_feat_seq, audio_feat_seq_length, frame, normed_vid_data"
   ]
  },
  {
   "cell_type": "code",
   "execution_count": 4,
   "metadata": {},
   "outputs": [],
   "source": [
    "va = getDataSample()\n",
    "aud, _, _, vid  = va(video_filenames_proc[0], 10, aligned=True)"
   ]
  },
  {
   "cell_type": "code",
   "execution_count": 27,
   "metadata": {},
   "outputs": [],
   "source": [
    "test = vid.permute(0,2,3,1)"
   ]
  },
  {
   "cell_type": "code",
   "execution_count": 28,
   "metadata": {},
   "outputs": [
    {
     "data": {
      "text/plain": [
       "torch.Size([75, 128, 128, 3])"
      ]
     },
     "execution_count": 28,
     "metadata": {},
     "output_type": "execute_result"
    }
   ],
   "source": [
    "test.shape"
   ]
  },
  {
   "cell_type": "code",
   "execution_count": 7,
   "metadata": {},
   "outputs": [
    {
     "name": "stdout",
     "output_type": "stream",
     "text": [
      "0\n",
      "50\n",
      "100\n",
      "150\n",
      "200\n",
      "250\n",
      "300\n",
      "350\n",
      "400\n",
      "450\n",
      "500\n",
      "550\n",
      "600\n",
      "650\n",
      "700\n",
      "750\n",
      "800\n",
      "850\n",
      "900\n",
      "950\n",
      "1000\n",
      "1050\n",
      "1100\n",
      "1150\n",
      "1200\n",
      "1250\n",
      "1300\n",
      "1350\n",
      "1400\n",
      "1450\n",
      "1500\n",
      "1550\n",
      "1600\n",
      "1650\n",
      "1700\n",
      "1750\n",
      "1800\n",
      "1850\n",
      "1900\n",
      "1950\n",
      "2000\n",
      "2050\n",
      "2100\n",
      "2150\n",
      "2200\n",
      "2250\n",
      "2300\n",
      "2350\n",
      "2400\n",
      "2450\n",
      "2500\n",
      "2550\n",
      "2600\n",
      "2650\n",
      "2700\n",
      "2750\n",
      "2800\n",
      "2850\n",
      "2900\n",
      "2950\n"
     ]
    }
   ],
   "source": [
    "for i, filename in enumerate(video_filenames_proc):\n",
    "\n",
    "    aud, _, _, vid  = va(filename, 10, aligned=True)\n",
    "    aud = aud.permute(1,0,2,3)\n",
    "    vid = vid.permute(0,2,3,1)\n",
    "    \n",
    "    \n",
    "    if i % 50 == 0:\n",
    "        print(i)\n",
    "    \n",
    "    if aud.shape[0] == vid.shape[0]:\n",
    "    \n",
    "        for j, frame in enumerate(vid):\n",
    "            \n",
    "            if j == 0:\n",
    "                np.save('/home/jarrod/dev/vq-vae-2-pytorch/vid_test_data/'+filename.split('faces/')[1].split('.')[0]+'_vid_' + str(j) + '_id', vid[j])\n",
    "                np.save('/home/jarrod/dev/vq-vae-2-pytorch/vid_test_data/'+filename.split('faces/')[1].split('.')[0]+'_aud_' + str(j) + '_id', aud[j])\n",
    "                \n",
    "            else:\n",
    "            \n",
    "                np.save('/home/jarrod/dev/vq-vae-2-pytorch/vid_test_data/'+filename.split('faces/')[1].split('.')[0]+'_vid_' + str(j), vid[j])\n",
    "                np.save('/home/jarrod/dev/vq-vae-2-pytorch/vid_test_data/'+filename.split('faces/')[1].split('.')[0]+'_aud_' + str(j), aud[j])\n",
    "            \n",
    "    "
   ]
  },
  {
   "cell_type": "code",
   "execution_count": 30,
   "metadata": {},
   "outputs": [],
   "source": [
    "test = np.load('/home/jarrod/dev/vq-vae-2-pytorch/vid_test_data/swwv9a_vid_9.npy')"
   ]
  },
  {
   "cell_type": "code",
   "execution_count": 33,
   "metadata": {},
   "outputs": [
    {
     "data": {
      "text/plain": [
       "[<matplotlib.lines.Line2D at 0x7f972f69c470>]"
      ]
     },
     "execution_count": 33,
     "metadata": {},
     "output_type": "execute_result"
    },
    {
     "data": {
      "image/png": "[encoded data removed]",
      "text/plain": [
       "<Figure size 432x288 with 1 Axes>"
      ]
     },
     "metadata": {
      "needs_background": "light"
     },
     "output_type": "display_data"
    }
   ],
   "source": [
    "plt.plot(test[0])"
   ]
  },
  {
   "cell_type": "code",
   "execution_count": null,
   "metadata": {},
   "outputs": [],
   "source": []
  }
 ],
 "metadata": {
  "kernelspec": {
   "display_name": "Python 3",
   "language": "python",
   "name": "python3"
  },
  "language_info": {
   "codemirror_mode": {
    "name": "ipython",
    "version": 3
   },
   "file_extension": ".py",
   "mimetype": "text/x-python",
   "name": "python",
   "nbconvert_exporter": "python",
   "pygments_lexer": "ipython3",
   "version": "3.7.1"
  }
 },
 "nbformat": 4,
 "nbformat_minor": 2
}
