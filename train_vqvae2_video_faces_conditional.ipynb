{
 "cells": [
  {
   "cell_type": "code",
   "execution_count": 1,
   "metadata": {},
   "outputs": [],
   "source": [
    "import argparse\n",
    "import os\n",
    "import glob\n",
    "import numpy as np\n",
    "from matplotlib import pyplot as plt\n",
    "\n",
    "import torch\n",
    "from torch import nn, optim\n",
    "from torch.utils.data import DataLoader\n",
    "from torch.utils.data import Dataset\n",
    "from torch.nn import functional as F\n",
    "\n",
    "from torchvision import datasets, transforms, utils\n",
    "\n",
    "from scheduler import CycleScheduler"
   ]
  },
  {
   "cell_type": "markdown",
   "metadata": {},
   "source": [
    "# Data"
   ]
  },
  {
   "cell_type": "code",
   "execution_count": 2,
   "metadata": {},
   "outputs": [],
   "source": [
    "class vid_faces(Dataset):\n",
    "    \"\"\"Face Landmarks dataset.\"\"\"\n",
    "\n",
    "    def __init__(self, transform=None):\n",
    "\n",
    "        self.filenames = glob.glob('/home/jarrod/dev/vq-vae-2-pytorch/256_train_data/*vid*.npy')\n",
    "        self.transform = transform\n",
    "\n",
    "    def __len__(self):\n",
    "        return len(self.filenames)\n",
    "\n",
    "    def __getitem__(self, idx):\n",
    "          \n",
    "        img = torch.Tensor(np.load(self.filenames[idx]))\n",
    "        aud = torch.Tensor(np.load(self.filenames[idx].split('_vid_')[0] + '_aud_' + self.filenames[idx].split('_vid_')[1]))\n",
    "        \n",
    "        fn = self.filenames[idx].split('_')\n",
    "        fn = fn[0] + '_' + fn[1] + '_' + fn[2] + '_' + fn[3] + '_0_id.npy'\n",
    "        \n",
    "        id_img = torch.Tensor(np.load(fn))\n",
    "        \n",
    "        img = img.permute(2,0,1)\n",
    "        id_img = id_img.permute(2,0,1)\n",
    "        \n",
    "        sample = {'id': id_img, 'image': img, 'audio': aud, 'fname':self.filenames[idx]}\n",
    "\n",
    "        return sample"
   ]
  },
  {
   "cell_type": "code",
   "execution_count": 3,
   "metadata": {},
   "outputs": [],
   "source": [
    "# grab the names of the pre-processed video files\n",
    "\n",
    "# build datasets\n",
    "dataset = vid_faces()\n",
    "dataloader = DataLoader(dataset, batch_size=128, shuffle=True, num_workers=16)"
   ]
  },
  {
   "cell_type": "markdown",
   "metadata": {},
   "source": [
    "# Model"
   ]
  },
  {
   "cell_type": "code",
   "execution_count": 4,
   "metadata": {},
   "outputs": [],
   "source": [
    "class Quantize(nn.Module):\n",
    "    def __init__(self, dim, n_embed, decay=0.99, eps=1e-5):\n",
    "        super().__init__()\n",
    "\n",
    "        self.dim = dim\n",
    "        self.n_embed = n_embed\n",
    "        self.decay = decay\n",
    "        self.eps = eps\n",
    "\n",
    "        embed = torch.randn(dim, n_embed)\n",
    "        self.register_buffer('embed', embed)\n",
    "        self.register_buffer('cluster_size', torch.zeros(n_embed))\n",
    "        self.register_buffer('embed_avg', embed.clone())\n",
    "\n",
    "    def forward(self, x):\n",
    "        flatten = x.reshape(-1, self.dim)\n",
    "        dist = (\n",
    "            flatten.pow(2).sum(1, keepdim=True)\n",
    "            - 2 * flatten @ self.embed\n",
    "            + self.embed.pow(2).sum(0, keepdim=True)\n",
    "        )\n",
    "        _, embed_ind = (-dist).max(1)\n",
    "        embed_onehot = F.one_hot(embed_ind, self.n_embed).type(flatten.dtype)\n",
    "        embed_ind = embed_ind.view(*x.shape[:-1])\n",
    "        quantize = self.embed_code(embed_ind)\n",
    "\n",
    "        if self.training:\n",
    "            self.cluster_size.data.mul_(self.decay).add_(\n",
    "                1 - self.decay, embed_onehot.sum(0)\n",
    "            )\n",
    "            embed_sum = flatten.transpose(0, 1) @ embed_onehot\n",
    "            self.embed_avg.data.mul_(self.decay).add_(1 - self.decay, embed_sum)\n",
    "            n = self.cluster_size.sum()\n",
    "            cluster_size = (\n",
    "                (self.cluster_size + self.eps) / (n + self.n_embed * self.eps) * n\n",
    "            )\n",
    "            embed_normalized = self.embed_avg / cluster_size.unsqueeze(0)\n",
    "            self.embed.data.copy_(embed_normalized)\n",
    "\n",
    "        diff = (quantize.detach() - x).pow(2).mean()\n",
    "        quantize = x + (quantize - x).detach()\n",
    "\n",
    "        return quantize, diff, embed_ind\n",
    "\n",
    "    def embed_code(self, embed_id):\n",
    "        return F.embedding(embed_id, self.embed.transpose(0, 1))\n",
    "\n",
    "\n",
    "class ResBlock(nn.Module):\n",
    "    def __init__(self, in_channel, channel):\n",
    "        super().__init__()\n",
    "\n",
    "        self.conv = nn.Sequential(\n",
    "            nn.ReLU(inplace=True),\n",
    "            nn.Conv2d(in_channel, channel, 3, padding=1),\n",
    "            nn.ReLU(inplace=True),\n",
    "            nn.Conv2d(channel, in_channel, 1),\n",
    "        )\n",
    "\n",
    "    def forward(self, x):\n",
    "        out = self.conv(x)\n",
    "        out += x\n",
    "\n",
    "        return out\n",
    "\n",
    "\n",
    "class Encoder(nn.Module):\n",
    "    def __init__(self, in_channel, channel, n_res_block, n_res_channel, stride):\n",
    "        super().__init__()\n",
    "\n",
    "        if stride == 4:\n",
    "            blocks = [\n",
    "                nn.Conv2d(in_channel, channel // 2, 4, stride=2, padding=1),\n",
    "                nn.ReLU(inplace=True),\n",
    "                nn.Conv2d(channel // 2, channel, 4, stride=2, padding=1),\n",
    "                nn.ReLU(inplace=True),\n",
    "                nn.Conv2d(channel, channel, 3, padding=1),\n",
    "            ]\n",
    "\n",
    "        elif stride == 2:\n",
    "            blocks = [\n",
    "                nn.Conv2d(in_channel, channel // 2, 4, stride=2, padding=1),\n",
    "                nn.ReLU(inplace=True),\n",
    "                nn.Conv2d(channel // 2, channel, 3, padding=1),\n",
    "            ]\n",
    "\n",
    "        for i in range(n_res_block):\n",
    "            blocks.append(ResBlock(channel, n_res_channel))\n",
    "\n",
    "        blocks.append(nn.ReLU(inplace=True))\n",
    "\n",
    "        self.blocks = nn.Sequential(*blocks)\n",
    "\n",
    "    def forward(self, x):\n",
    "        return self.blocks(x)\n",
    "\n",
    "\n",
    "class Decoder(nn.Module):\n",
    "    def __init__(\n",
    "        self, in_channel, out_channel, channel, n_res_block, n_res_channel, stride\n",
    "    ):\n",
    "        super().__init__()\n",
    "        \n",
    "        blocks = [nn.Conv2d(in_channel, channel, 3, padding=1)]\n",
    "\n",
    "        for i in range(n_res_block):\n",
    "            blocks.append(ResBlock(channel, n_res_channel))\n",
    "\n",
    "        blocks.append(nn.ReLU(inplace=True))\n",
    "\n",
    "        if stride == 4:\n",
    "            blocks.extend(\n",
    "                [\n",
    "                    nn.ConvTranspose2d(channel, channel // 2, 4, stride=2, padding=1),\n",
    "                    nn.ReLU(inplace=True),\n",
    "                    nn.ConvTranspose2d(\n",
    "                        channel // 2, out_channel, 4, stride=2, padding=1\n",
    "                    ),\n",
    "                ]\n",
    "            )\n",
    "\n",
    "        elif stride == 2:\n",
    "            blocks.append(\n",
    "                nn.ConvTranspose2d(channel, out_channel, 4, stride=2, padding=1)\n",
    "            )\n",
    "\n",
    "        self.blocks = nn.Sequential(*blocks)\n",
    "\n",
    "    def forward(self, x):\n",
    "        return self.blocks(x)\n",
    "\n",
    "\n",
    "class VQVAE(nn.Module):\n",
    "    def __init__(\n",
    "        self,\n",
    "        in_channel=3,\n",
    "        channel=128,\n",
    "        n_res_block=2,\n",
    "        n_res_channel=32,\n",
    "        embed_dim=64,\n",
    "        n_embed=512,\n",
    "        decay=0.99,\n",
    "    ):\n",
    "        super().__init__()\n",
    "\n",
    "        self.enc_aud = audEncoder()\n",
    "        \n",
    "        self.enc_b = Encoder(in_channel, channel, n_res_block, n_res_channel, stride=4)\n",
    "        self.enc_t = Encoder(channel, channel, n_res_block, n_res_channel, stride=2)\n",
    "        \n",
    "        self.quantize_conv_t = nn.Conv2d(channel, embed_dim, 1)\n",
    "        self.quantize_t = Quantize(embed_dim, n_embed)\n",
    "        \n",
    "        self.dec_t = Decoder(embed_dim, embed_dim, channel, n_res_block, n_res_channel, stride=2)\n",
    "        \n",
    "        self.quantize_conv_b = nn.Conv2d(embed_dim + channel, embed_dim, 1)\n",
    "        self.quantize_b = Quantize(embed_dim, n_embed)\n",
    "        \n",
    "        self.upsample_a = nn.ConvTranspose2d(16, 16, 4, stride=2, padding=1)\n",
    "        self.upsample_t = nn.ConvTranspose2d(embed_dim, embed_dim, 4, stride=2, padding=1)\n",
    "        \n",
    "        self.dec = Decoder(\n",
    "            embed_dim + embed_dim + 16,\n",
    "            in_channel,\n",
    "            channel,\n",
    "            n_res_block,\n",
    "            n_res_channel,\n",
    "            stride=4,\n",
    "        )\n",
    "\n",
    "    def forward(self, x, x_aud):\n",
    "        \n",
    "        quant_t, quant_b, diff, _, _ = self.encode(x)\n",
    "        \n",
    "        x_aud = self.enc_aud(x_aud)\n",
    "        \n",
    "        dec = self.decode(quant_t, quant_b, x_aud)\n",
    "\n",
    "        return dec, diff\n",
    "\n",
    "    def encode(self, x):\n",
    "        \n",
    "        enc_b = self.enc_b(x)\n",
    "        enc_t = self.enc_t(enc_b)\n",
    "\n",
    "        quant_t = self.quantize_conv_t(enc_t).permute(0, 2, 3, 1)\n",
    "        quant_t, diff_t, id_t = self.quantize_t(quant_t)\n",
    "        quant_t = quant_t.permute(0, 3, 1, 2)\n",
    "        diff_t = diff_t.unsqueeze(0)\n",
    "\n",
    "        dec_t = self.dec_t(quant_t)\n",
    "        enc_b = torch.cat([dec_t, enc_b], 1)\n",
    "\n",
    "        quant_b = self.quantize_conv_b(enc_b).permute(0, 2, 3, 1)\n",
    "        quant_b, diff_b, id_b = self.quantize_b(quant_b)\n",
    "        quant_b = quant_b.permute(0, 3, 1, 2)\n",
    "        diff_b = diff_b.unsqueeze(0)\n",
    "\n",
    "        return quant_t, quant_b, diff_t + diff_b, id_t, id_b\n",
    "\n",
    "    def decode(self, quant_t, quant_b, x_aud):\n",
    "        \n",
    "        upsample_a = self.upsample_a(x_aud)\n",
    "        upsample_t = self.upsample_t(quant_t)\n",
    "        \n",
    "        quant = torch.cat([upsample_a, upsample_t, quant_b], 1)\n",
    "        \n",
    "        \n",
    "        dec = self.dec(quant)\n",
    "\n",
    "        return dec\n",
    "\n",
    "    # not used\n",
    "    def decode_code(self, code_t, code_b):\n",
    "        quant_t = self.quantize_t.embed_code(code_t)\n",
    "        quant_t = quant_t.permute(0, 3, 1, 2)\n",
    "        quant_b = self.quantize_b.embed_code(code_b)\n",
    "        quant_b = quant_b.permute(0, 3, 1, 2)\n",
    "\n",
    "        dec = self.decode(quant_t, quant_b)\n",
    "\n",
    "        return dec"
   ]
  },
  {
   "cell_type": "code",
   "execution_count": 5,
   "metadata": {},
   "outputs": [],
   "source": [
    "class audEncoder(nn.Module):\n",
    "    def __init__(self):\n",
    "        # takes as input a tensor of shape [batch, channels, length]\n",
    "        super(audEncoder, self).__init__()\n",
    "\n",
    "\n",
    "        self.nc_aud = 1\n",
    "        self.ndf_aud = 16\n",
    "\n",
    "        self.aud = nn.Sequential(\n",
    "            # input is (nc) x 10000 x 1\n",
    "            nn.Conv1d(self.nc_aud, self.ndf_aud, 4, 7, 1, bias=False),\n",
    "            nn.LeakyReLU(0.2, inplace=True),\n",
    "            # state size. (ndf_aud) x 48 x 64\n",
    "            nn.Conv1d(self.ndf_aud, self.ndf_aud * 2, 3, 2, 1, bias=False),\n",
    "            nn.BatchNorm1d(self.ndf_aud * 2),\n",
    "            nn.LeakyReLU(0.2, inplace=True),\n",
    "\n",
    "            # state size. (ndf_aud*2) x 24 x 32\n",
    "            nn.Conv1d(self.ndf_aud * 2, self.ndf_aud * 4, 3, 1, 1, bias=False),\n",
    "            nn.BatchNorm1d(self.ndf_aud * 4),\n",
    "            nn.LeakyReLU(0.2, inplace=True),\n",
    "            # state size. (ndf_aud*4) x 12 x 16\n",
    "            nn.Conv1d(self.ndf_aud * 4, self.ndf_aud * 4, 3, 2, 1, bias=False),\n",
    "            nn.BatchNorm1d(self.ndf_aud * 4),\n",
    "            nn.LeakyReLU(0.2, inplace=True),\n",
    "            # state size. (ndf_aud*8) x 6 x 8\n",
    "            nn.Conv1d(self.ndf_aud * 4, self.ndf_aud * 4, 3, 1, 1, bias=False),\n",
    "            nn.BatchNorm1d(self.ndf_aud * 4),\n",
    "            nn.LeakyReLU(0.2, inplace=True),\n",
    "            nn.Conv1d(self.ndf_aud * 4, self.ndf_aud * 4, 3, 2, 1, bias=False),\n",
    "            nn.BatchNorm1d(self.ndf_aud * 4),\n",
    "            nn.LeakyReLU(0.2, inplace=True),\n",
    "            nn.Conv1d(self.ndf_aud * 4, self.ndf_aud * 4, 2, 1, 1, bias=False),\n",
    "            nn.BatchNorm1d(self.ndf_aud * 4),\n",
    "            nn.LeakyReLU(0.2, inplace=True),\n",
    "            nn.Conv1d(self.ndf_aud * 4, self.ndf_aud * 2, 3, 1, 1, bias=False),\n",
    "            nn.BatchNorm1d(self.ndf_aud * 2),\n",
    "            nn.LeakyReLU(0.2, inplace=True),\n",
    "            nn.Conv1d(self.ndf_aud * 2, self.ndf_aud * 1, 3, 1, 1, bias=False),\n",
    "            nn.BatchNorm1d(self.ndf_aud * 1),\n",
    "            nn.LeakyReLU(0.2, inplace=True),\n",
    "        )\n",
    "\n",
    "        \n",
    "    def forward(self, x_aud):\n",
    "       \n",
    "        x_aud = self.aud(x_aud)\n",
    "        # adjust this number for size of input!\n",
    "        pad = torch.zeros(64,16,76).to(device)\n",
    " \n",
    "        x_aud = torch.cat((x_aud,pad), axis=2)\n",
    "        x_aud = x_aud.view(64,16,16,16)\n",
    "        \n",
    "        return x_aud"
   ]
  },
  {
   "cell_type": "markdown",
   "metadata": {},
   "source": [
    "# Train"
   ]
  },
  {
   "cell_type": "code",
   "execution_count": 6,
   "metadata": {},
   "outputs": [
    {
     "name": "stderr",
     "output_type": "stream",
     "text": [
      "/home/jarrod/.pyenv/versions/3.7.1/lib/python3.7/site-packages/torch/nn/parallel/data_parallel.py:26: UserWarning: \n",
      "    There is an imbalance between your GPUs. You may want to exclude GPU 1 which\n",
      "    has less than 75% of the memory or cores of GPU 0. You can do so by setting\n",
      "    the device_ids argument to DataParallel, or by setting the CUDA_VISIBLE_DEVICES\n",
      "    environment variable.\n",
      "  warnings.warn(imbalance_warn.format(device_ids[min_pos], device_ids[max_pos]))\n"
     ]
    }
   ],
   "source": [
    "device = 'cuda'\n",
    "\n",
    "latent_loss_weight = 0.25\n",
    "\n",
    "EPOCHS = 10\n",
    "LR = 1e-3\n",
    "\n",
    "mse_sum = 0\n",
    "mse_n = 0\n",
    "\n",
    "model = nn.DataParallel(VQVAE()).to(device)\n",
    "\n",
    "optimizer = optim.Adam(model.parameters(), lr=LR)\n",
    "criterion = nn.MSELoss()\n",
    "criterion2 = nn.MSELoss()\n",
    "\n",
    "scheduler = None"
   ]
  },
  {
   "cell_type": "code",
   "execution_count": 7,
   "metadata": {
    "scrolled": true
   },
   "outputs": [
    {
     "ename": "RuntimeError",
     "evalue": "Caught RuntimeError in replica 0 on device 0.\nOriginal Traceback (most recent call last):\n  File \"/home/jarrod/.pyenv/versions/3.7.1/lib/python3.7/site-packages/torch/nn/parallel/parallel_apply.py\", line 60, in _worker\n    output = module(*input, **kwargs)\n  File \"/home/jarrod/.pyenv/versions/3.7.1/lib/python3.7/site-packages/torch/nn/modules/module.py\", line 532, in __call__\n    result = self.forward(*input, **kwargs)\n  File \"<ipython-input-4-1210d1a233ec>\", line 177, in forward\n    dec = self.decode(quant_t, quant_b, x_aud)\n  File \"<ipython-input-4-1210d1a233ec>\", line 206, in decode\n    quant = torch.cat([upsample_a, upsample_t, quant_b], 1)\nRuntimeError: invalid argument 0: Sizes of tensors must match except in dimension 1. Got 64 and 32 in dimension 2 at /pytorch/aten/src/THC/generic/THCTensorMath.cu:71\n",
     "output_type": "error",
     "traceback": [
      "\u001b[0;31m---------------------------------------------------------------------------\u001b[0m",
      "\u001b[0;31mRuntimeError\u001b[0m                              Traceback (most recent call last)",
      "\u001b[0;32m<ipython-input-7-fe0cdb9b5235>\u001b[0m in \u001b[0;36m<module>\u001b[0;34m\u001b[0m\n\u001b[1;32m     16\u001b[0m \u001b[0;34m\u001b[0m\u001b[0m\n\u001b[1;32m     17\u001b[0m \u001b[0;34m\u001b[0m\u001b[0m\n\u001b[0;32m---> 18\u001b[0;31m         \u001b[0mout\u001b[0m\u001b[0;34m,\u001b[0m \u001b[0mlatent_loss\u001b[0m \u001b[0;34m=\u001b[0m \u001b[0mmodel\u001b[0m\u001b[0;34m(\u001b[0m\u001b[0mid_img\u001b[0m\u001b[0;34m,\u001b[0m \u001b[0maud\u001b[0m\u001b[0;34m)\u001b[0m\u001b[0;34m\u001b[0m\u001b[0;34m\u001b[0m\u001b[0m\n\u001b[0m\u001b[1;32m     19\u001b[0m         \u001b[0mrecon_loss\u001b[0m \u001b[0;34m=\u001b[0m \u001b[0mcriterion\u001b[0m\u001b[0;34m(\u001b[0m\u001b[0mout\u001b[0m\u001b[0;34m,\u001b[0m \u001b[0mimg\u001b[0m\u001b[0;34m)\u001b[0m\u001b[0;34m\u001b[0m\u001b[0;34m\u001b[0m\u001b[0m\n\u001b[1;32m     20\u001b[0m \u001b[0;34m\u001b[0m\u001b[0m\n",
      "\u001b[0;32m~/.pyenv/versions/3.7.1/lib/python3.7/site-packages/torch/nn/modules/module.py\u001b[0m in \u001b[0;36m__call__\u001b[0;34m(self, *input, **kwargs)\u001b[0m\n\u001b[1;32m    530\u001b[0m             \u001b[0mresult\u001b[0m \u001b[0;34m=\u001b[0m \u001b[0mself\u001b[0m\u001b[0;34m.\u001b[0m\u001b[0m_slow_forward\u001b[0m\u001b[0;34m(\u001b[0m\u001b[0;34m*\u001b[0m\u001b[0minput\u001b[0m\u001b[0;34m,\u001b[0m \u001b[0;34m**\u001b[0m\u001b[0mkwargs\u001b[0m\u001b[0;34m)\u001b[0m\u001b[0;34m\u001b[0m\u001b[0;34m\u001b[0m\u001b[0m\n\u001b[1;32m    531\u001b[0m         \u001b[0;32melse\u001b[0m\u001b[0;34m:\u001b[0m\u001b[0;34m\u001b[0m\u001b[0;34m\u001b[0m\u001b[0m\n\u001b[0;32m--> 532\u001b[0;31m             \u001b[0mresult\u001b[0m \u001b[0;34m=\u001b[0m \u001b[0mself\u001b[0m\u001b[0;34m.\u001b[0m\u001b[0mforward\u001b[0m\u001b[0;34m(\u001b[0m\u001b[0;34m*\u001b[0m\u001b[0minput\u001b[0m\u001b[0;34m,\u001b[0m \u001b[0;34m**\u001b[0m\u001b[0mkwargs\u001b[0m\u001b[0;34m)\u001b[0m\u001b[0;34m\u001b[0m\u001b[0;34m\u001b[0m\u001b[0m\n\u001b[0m\u001b[1;32m    533\u001b[0m         \u001b[0;32mfor\u001b[0m \u001b[0mhook\u001b[0m \u001b[0;32min\u001b[0m \u001b[0mself\u001b[0m\u001b[0;34m.\u001b[0m\u001b[0m_forward_hooks\u001b[0m\u001b[0;34m.\u001b[0m\u001b[0mvalues\u001b[0m\u001b[0;34m(\u001b[0m\u001b[0;34m)\u001b[0m\u001b[0;34m:\u001b[0m\u001b[0;34m\u001b[0m\u001b[0;34m\u001b[0m\u001b[0m\n\u001b[1;32m    534\u001b[0m             \u001b[0mhook_result\u001b[0m \u001b[0;34m=\u001b[0m \u001b[0mhook\u001b[0m\u001b[0;34m(\u001b[0m\u001b[0mself\u001b[0m\u001b[0;34m,\u001b[0m \u001b[0minput\u001b[0m\u001b[0;34m,\u001b[0m \u001b[0mresult\u001b[0m\u001b[0;34m)\u001b[0m\u001b[0;34m\u001b[0m\u001b[0;34m\u001b[0m\u001b[0m\n",
      "\u001b[0;32m~/.pyenv/versions/3.7.1/lib/python3.7/site-packages/torch/nn/parallel/data_parallel.py\u001b[0m in \u001b[0;36mforward\u001b[0;34m(self, *inputs, **kwargs)\u001b[0m\n\u001b[1;32m    150\u001b[0m             \u001b[0;32mreturn\u001b[0m \u001b[0mself\u001b[0m\u001b[0;34m.\u001b[0m\u001b[0mmodule\u001b[0m\u001b[0;34m(\u001b[0m\u001b[0;34m*\u001b[0m\u001b[0minputs\u001b[0m\u001b[0;34m[\u001b[0m\u001b[0;36m0\u001b[0m\u001b[0;34m]\u001b[0m\u001b[0;34m,\u001b[0m \u001b[0;34m**\u001b[0m\u001b[0mkwargs\u001b[0m\u001b[0;34m[\u001b[0m\u001b[0;36m0\u001b[0m\u001b[0;34m]\u001b[0m\u001b[0;34m)\u001b[0m\u001b[0;34m\u001b[0m\u001b[0;34m\u001b[0m\u001b[0m\n\u001b[1;32m    151\u001b[0m         \u001b[0mreplicas\u001b[0m \u001b[0;34m=\u001b[0m \u001b[0mself\u001b[0m\u001b[0;34m.\u001b[0m\u001b[0mreplicate\u001b[0m\u001b[0;34m(\u001b[0m\u001b[0mself\u001b[0m\u001b[0;34m.\u001b[0m\u001b[0mmodule\u001b[0m\u001b[0;34m,\u001b[0m \u001b[0mself\u001b[0m\u001b[0;34m.\u001b[0m\u001b[0mdevice_ids\u001b[0m\u001b[0;34m[\u001b[0m\u001b[0;34m:\u001b[0m\u001b[0mlen\u001b[0m\u001b[0;34m(\u001b[0m\u001b[0minputs\u001b[0m\u001b[0;34m)\u001b[0m\u001b[0;34m]\u001b[0m\u001b[0;34m)\u001b[0m\u001b[0;34m\u001b[0m\u001b[0;34m\u001b[0m\u001b[0m\n\u001b[0;32m--> 152\u001b[0;31m         \u001b[0moutputs\u001b[0m \u001b[0;34m=\u001b[0m \u001b[0mself\u001b[0m\u001b[0;34m.\u001b[0m\u001b[0mparallel_apply\u001b[0m\u001b[0;34m(\u001b[0m\u001b[0mreplicas\u001b[0m\u001b[0;34m,\u001b[0m \u001b[0minputs\u001b[0m\u001b[0;34m,\u001b[0m \u001b[0mkwargs\u001b[0m\u001b[0;34m)\u001b[0m\u001b[0;34m\u001b[0m\u001b[0;34m\u001b[0m\u001b[0m\n\u001b[0m\u001b[1;32m    153\u001b[0m         \u001b[0;32mreturn\u001b[0m \u001b[0mself\u001b[0m\u001b[0;34m.\u001b[0m\u001b[0mgather\u001b[0m\u001b[0;34m(\u001b[0m\u001b[0moutputs\u001b[0m\u001b[0;34m,\u001b[0m \u001b[0mself\u001b[0m\u001b[0;34m.\u001b[0m\u001b[0moutput_device\u001b[0m\u001b[0;34m)\u001b[0m\u001b[0;34m\u001b[0m\u001b[0;34m\u001b[0m\u001b[0m\n\u001b[1;32m    154\u001b[0m \u001b[0;34m\u001b[0m\u001b[0m\n",
      "\u001b[0;32m~/.pyenv/versions/3.7.1/lib/python3.7/site-packages/torch/nn/parallel/data_parallel.py\u001b[0m in \u001b[0;36mparallel_apply\u001b[0;34m(self, replicas, inputs, kwargs)\u001b[0m\n\u001b[1;32m    160\u001b[0m \u001b[0;34m\u001b[0m\u001b[0m\n\u001b[1;32m    161\u001b[0m     \u001b[0;32mdef\u001b[0m \u001b[0mparallel_apply\u001b[0m\u001b[0;34m(\u001b[0m\u001b[0mself\u001b[0m\u001b[0;34m,\u001b[0m \u001b[0mreplicas\u001b[0m\u001b[0;34m,\u001b[0m \u001b[0minputs\u001b[0m\u001b[0;34m,\u001b[0m \u001b[0mkwargs\u001b[0m\u001b[0;34m)\u001b[0m\u001b[0;34m:\u001b[0m\u001b[0;34m\u001b[0m\u001b[0;34m\u001b[0m\u001b[0m\n\u001b[0;32m--> 162\u001b[0;31m         \u001b[0;32mreturn\u001b[0m \u001b[0mparallel_apply\u001b[0m\u001b[0;34m(\u001b[0m\u001b[0mreplicas\u001b[0m\u001b[0;34m,\u001b[0m \u001b[0minputs\u001b[0m\u001b[0;34m,\u001b[0m \u001b[0mkwargs\u001b[0m\u001b[0;34m,\u001b[0m \u001b[0mself\u001b[0m\u001b[0;34m.\u001b[0m\u001b[0mdevice_ids\u001b[0m\u001b[0;34m[\u001b[0m\u001b[0;34m:\u001b[0m\u001b[0mlen\u001b[0m\u001b[0;34m(\u001b[0m\u001b[0mreplicas\u001b[0m\u001b[0;34m)\u001b[0m\u001b[0;34m]\u001b[0m\u001b[0;34m)\u001b[0m\u001b[0;34m\u001b[0m\u001b[0;34m\u001b[0m\u001b[0m\n\u001b[0m\u001b[1;32m    163\u001b[0m \u001b[0;34m\u001b[0m\u001b[0m\n\u001b[1;32m    164\u001b[0m     \u001b[0;32mdef\u001b[0m \u001b[0mgather\u001b[0m\u001b[0;34m(\u001b[0m\u001b[0mself\u001b[0m\u001b[0;34m,\u001b[0m \u001b[0moutputs\u001b[0m\u001b[0;34m,\u001b[0m \u001b[0moutput_device\u001b[0m\u001b[0;34m)\u001b[0m\u001b[0;34m:\u001b[0m\u001b[0;34m\u001b[0m\u001b[0;34m\u001b[0m\u001b[0m\n",
      "\u001b[0;32m~/.pyenv/versions/3.7.1/lib/python3.7/site-packages/torch/nn/parallel/parallel_apply.py\u001b[0m in \u001b[0;36mparallel_apply\u001b[0;34m(modules, inputs, kwargs_tup, devices)\u001b[0m\n\u001b[1;32m     83\u001b[0m         \u001b[0moutput\u001b[0m \u001b[0;34m=\u001b[0m \u001b[0mresults\u001b[0m\u001b[0;34m[\u001b[0m\u001b[0mi\u001b[0m\u001b[0;34m]\u001b[0m\u001b[0;34m\u001b[0m\u001b[0;34m\u001b[0m\u001b[0m\n\u001b[1;32m     84\u001b[0m         \u001b[0;32mif\u001b[0m \u001b[0misinstance\u001b[0m\u001b[0;34m(\u001b[0m\u001b[0moutput\u001b[0m\u001b[0;34m,\u001b[0m \u001b[0mExceptionWrapper\u001b[0m\u001b[0;34m)\u001b[0m\u001b[0;34m:\u001b[0m\u001b[0;34m\u001b[0m\u001b[0;34m\u001b[0m\u001b[0m\n\u001b[0;32m---> 85\u001b[0;31m             \u001b[0moutput\u001b[0m\u001b[0;34m.\u001b[0m\u001b[0mreraise\u001b[0m\u001b[0;34m(\u001b[0m\u001b[0;34m)\u001b[0m\u001b[0;34m\u001b[0m\u001b[0;34m\u001b[0m\u001b[0m\n\u001b[0m\u001b[1;32m     86\u001b[0m         \u001b[0moutputs\u001b[0m\u001b[0;34m.\u001b[0m\u001b[0mappend\u001b[0m\u001b[0;34m(\u001b[0m\u001b[0moutput\u001b[0m\u001b[0;34m)\u001b[0m\u001b[0;34m\u001b[0m\u001b[0;34m\u001b[0m\u001b[0m\n\u001b[1;32m     87\u001b[0m     \u001b[0;32mreturn\u001b[0m \u001b[0moutputs\u001b[0m\u001b[0;34m\u001b[0m\u001b[0;34m\u001b[0m\u001b[0m\n",
      "\u001b[0;32m~/.pyenv/versions/3.7.1/lib/python3.7/site-packages/torch/_utils.py\u001b[0m in \u001b[0;36mreraise\u001b[0;34m(self)\u001b[0m\n\u001b[1;32m    392\u001b[0m             \u001b[0;31m# (https://bugs.python.org/issue2651), so we work around it.\u001b[0m\u001b[0;34m\u001b[0m\u001b[0;34m\u001b[0m\u001b[0;34m\u001b[0m\u001b[0m\n\u001b[1;32m    393\u001b[0m             \u001b[0mmsg\u001b[0m \u001b[0;34m=\u001b[0m \u001b[0mKeyErrorMessage\u001b[0m\u001b[0;34m(\u001b[0m\u001b[0mmsg\u001b[0m\u001b[0;34m)\u001b[0m\u001b[0;34m\u001b[0m\u001b[0;34m\u001b[0m\u001b[0m\n\u001b[0;32m--> 394\u001b[0;31m         \u001b[0;32mraise\u001b[0m \u001b[0mself\u001b[0m\u001b[0;34m.\u001b[0m\u001b[0mexc_type\u001b[0m\u001b[0;34m(\u001b[0m\u001b[0mmsg\u001b[0m\u001b[0;34m)\u001b[0m\u001b[0;34m\u001b[0m\u001b[0;34m\u001b[0m\u001b[0m\n\u001b[0m",
      "\u001b[0;31mRuntimeError\u001b[0m: Caught RuntimeError in replica 0 on device 0.\nOriginal Traceback (most recent call last):\n  File \"/home/jarrod/.pyenv/versions/3.7.1/lib/python3.7/site-packages/torch/nn/parallel/parallel_apply.py\", line 60, in _worker\n    output = module(*input, **kwargs)\n  File \"/home/jarrod/.pyenv/versions/3.7.1/lib/python3.7/site-packages/torch/nn/modules/module.py\", line 532, in __call__\n    result = self.forward(*input, **kwargs)\n  File \"<ipython-input-4-1210d1a233ec>\", line 177, in forward\n    dec = self.decode(quant_t, quant_b, x_aud)\n  File \"<ipython-input-4-1210d1a233ec>\", line 206, in decode\n    quant = torch.cat([upsample_a, upsample_t, quant_b], 1)\nRuntimeError: invalid argument 0: Sizes of tensors must match except in dimension 1. Got 64 and 32 in dimension 2 at /pytorch/aten/src/THC/generic/THCTensorMath.cu:71\n"
     ]
    }
   ],
   "source": [
    "for e in range(EPOCHS):\n",
    "\n",
    "    mse_sum = 0\n",
    "    mse_n = 0\n",
    "\n",
    "    for i, batch in enumerate(dataloader):\n",
    "\n",
    "        model.zero_grad()\n",
    "\n",
    "        if batch['image'].shape[0] != 128:\n",
    "            continue\n",
    "\n",
    "        img = batch['image'].to(device)\n",
    "        aud = batch['audio'].view(128,1,10000).to(device)\n",
    "        id_img = batch['id'].to(device)\n",
    "\n",
    "\n",
    "        out, latent_loss = model(id_img, aud)\n",
    "        recon_loss = criterion(out, img)\n",
    "\n",
    "    #     lower_face_loss = criterion2(out[:,:,:80,:], img[:,:,:80,:])\n",
    "\n",
    "        lower_face_loss = 0\n",
    "\n",
    "        latent_loss = latent_loss.mean()\n",
    "\n",
    "        loss = recon_loss + latent_loss_weight * latent_loss\n",
    "        loss.backward()\n",
    "\n",
    "        if scheduler is not None:\n",
    "            scheduler.step()\n",
    "\n",
    "        optimizer.step()\n",
    "\n",
    "        mse_sum += recon_loss.item() * img.shape[0]\n",
    "        mse_n += img.shape[0]\n",
    "\n",
    "        lr = optimizer.param_groups[0]['lr']\n",
    "\n",
    "        if i % 50 == 0 and i != 0:\n",
    "            print(\"face loss: \", lower_face_loss, \"MSE: \", recon_loss.item(), \n",
    "                  \"latent loss: \", latent_loss.item(), \"avg MSE: \", mse_sum / mse_n)\n",
    "            test_img = np.moveaxis(out.cpu().detach().numpy(),1,-1)\n",
    "            inp_img = np.moveaxis(img.cpu().detach().numpy(),1,-1)\n",
    "            plt.imshow(test_img[40])\n",
    "            plt.show()\n",
    "            plt.imshow(inp_img[40])\n",
    "            plt.show()\n",
    "\n",
    "\n",
    "    #     loader.set_description(\n",
    "    #         (\n",
    "    #             f'epoch: {epoch + 1}; mse: {recon_loss.item():.5f}; '\n",
    "    #             f'latent: {latent_loss.item():.3f}; avg mse: {mse_sum / mse_n:.5f}; '\n",
    "    #             f'lr: {lr:.5f}'\n",
    "    #         )\n",
    "    #     )\n",
    "\n",
    "    #     if i % 100 == 0:\n",
    "    #         model.eval()\n",
    "\n",
    "    #         sample = img[:sample_size]\n",
    "\n",
    "    #         with torch.no_grad():\n",
    "    #             out, _ = model(sample)\n",
    "\n",
    "    #         utils.save_image(\n",
    "    #             torch.cat([sample, out], 0),\n",
    "    #             f'sample/{str(epoch + 1).zfill(5)}_{str(i).zfill(5)}.png',\n",
    "    #             nrow=sample_size,\n",
    "    #             normalize=True,\n",
    "    #             range=(-1, 1),\n",
    "    #         )\n",
    "\n",
    "    #         model.train()"
   ]
  },
  {
   "cell_type": "code",
   "execution_count": 10,
   "metadata": {},
   "outputs": [],
   "source": [
    "torch.save(model.state_dict(), './model_dir/GAG_epoch20')"
   ]
  },
  {
   "cell_type": "markdown",
   "metadata": {},
   "source": [
    "# Create Animation"
   ]
  },
  {
   "cell_type": "code",
   "execution_count": 11,
   "metadata": {},
   "outputs": [],
   "source": [
    "# grab the names of the pre-processed video files\n",
    "video_names = glob.glob('/home/jarrod/dev/speech-driven-animation/data/aligned_faces/*.npy')\n",
    "\n",
    "# delete bad entries\n",
    "bad_files = ['bgit2n', 'lbij7a', 'lrbr3s', 'pbio7a', 'sbaa4p', 'sgwp8p', 'sbim8p', \n",
    "             'srwi5a', 'swao7a', 'srbb4n', 'sbbbzp', 'lrae3s']\n",
    "\n",
    "for i,f in enumerate(video_names):\n",
    "    \n",
    "    for bad in bad_files:\n",
    "        if f.find(bad) != -1:\n",
    "            del video_names[i]\n",
    "            break"
   ]
  },
  {
   "cell_type": "code",
   "execution_count": 12,
   "metadata": {},
   "outputs": [],
   "source": [
    "class getDataSample():\n",
    "    def __init__(self, gpu=1):\n",
    "\n",
    "        self.audio_path = '/home/jarrod/dev/speech-driven-animation/data/npy_audio/'\n",
    "        self.device = torch.device(\"cuda:\" + str(gpu))\n",
    "\n",
    "        self.mean_face = np.load('/home/jarrod/dev/speech-driven-animation/data/mean_face.npy')\n",
    "        self.img_size = (128,128)\n",
    "        self.aux_latent = 10\n",
    "        self.sequential_noise = True\n",
    "    \n",
    "        rnn_gen_dim = 256\n",
    "        id_enc_dim = 128\n",
    "        aud_enc_dim = 256\n",
    "        audio_feat_len = 0.2\n",
    "        self.audio_rate = 50000\n",
    "        self.video_rate = 25\n",
    "        self.audio_feat_samples = 10000\n",
    "        self.conversion_dict = {'s16': np.int16, 's32': np.int32}\n",
    "        \n",
    "        # image preprocessing\n",
    "        self.img_transform = transforms.Compose([\n",
    "            transforms.ToPILImage(),\n",
    "            transforms.Resize((self.img_size[0], self.img_size[1])),\n",
    "            transforms.ToTensor(),\n",
    "            transforms.Normalize((0.5, 0.5, 0.5), (0.5, 0.5, 0.5))])\n",
    "\n",
    "\n",
    "    def preprocess_img(self, img):\n",
    "        src = self.fa.get_landmarks(img)[0][self.stablePntsIDs, :]\n",
    "        dst = self.mean_face[self.stablePntsIDs, :]\n",
    "        tform = tf.estimate_transform('similarity', src, dst)  # find the transformation matrix\n",
    "        warped = tf.warp(img, inverse_map=tform.inverse, output_shape=self.img_size)  # wrap the frame image\n",
    "        warped = warped * 255  # note output from wrap is double image (value range [0,1])\n",
    "        warped = warped.astype('uint8')\n",
    "\n",
    "        return warped\n",
    "\n",
    "    def __call__(self, filename, num_d1_samples, fs=None, aligned=False):\n",
    "        \n",
    "        audio_filename = self.audio_path + filename.split('/')[-1].split('.npy')[0] + '.wav.npy'\n",
    "        \n",
    "       \n",
    "    \n",
    "        vid_data = np.load(filename)\n",
    "        frame = np.copy(vid_data[0])\n",
    "                \n",
    "        # take the input image and preprocess it    \n",
    "        frame = self.img_transform(frame)\n",
    "            \n",
    "        frame = frame.unsqueeze(0)\n",
    "        \n",
    "        # Load preprocessed audio data\n",
    "        audio_feat_seq = np.load(audio_filename)\n",
    "        \n",
    "        audio_feat_seq = torch.Tensor(audio_feat_seq)\n",
    "        audio_feat_seq_length = audio_feat_seq.shape[1]\n",
    "                \n",
    "        samp = np.random.rand(num_d1_samples)*audio_feat_seq_length\n",
    "        samp = samp.astype(int)\n",
    "\n",
    "        \n",
    "        normed_vid_data = []\n",
    "        \n",
    "        for i, img in enumerate(vid_data):\n",
    "            normed_vid_data.append((self.img_transform(img)+ 1.0) / 2.0)\n",
    "        \n",
    "        normed_vid_data = torch.stack(normed_vid_data)\n",
    "        \n",
    "#         d1_frames = normed_vid_data[samp]\n",
    "\n",
    "        # shuffle the id frames, otherwise the discriminator learns too fast    \n",
    "#         np.random.shuffle(samp)\n",
    "#         d1_frames_shuff = normed_vid_data[samp]\n",
    "\n",
    "#         frame_c = frame.repeat(num_d1_samples,1,1,1) \n",
    "        # concat the id_frame onto the back of axis 1 (indices 3:)\n",
    "#         d1_frames = torch.cat((d1_frames, d1_frames_shuff), axis=1)\n",
    "        \n",
    "        \n",
    "        return audio_feat_seq, audio_feat_seq_length, frame, normed_vid_data"
   ]
  },
  {
   "cell_type": "code",
   "execution_count": 14,
   "metadata": {},
   "outputs": [],
   "source": [
    "va = getDataSample()\n",
    "aud, _, _, vid  = va(video_names[0], 10, aligned=True)"
   ]
  },
  {
   "cell_type": "code",
   "execution_count": null,
   "metadata": {},
   "outputs": [],
   "source": [
    "model.eval()"
   ]
  },
  {
   "cell_type": "code",
   "execution_count": null,
   "metadata": {},
   "outputs": [],
   "source": [
    "img = batch['image'].to(device)\n",
    "aud = batch['audio'].view(128,1,10000).to(device)\n",
    "id_img = batch['id'].to(device)\n",
    "\n",
    "\n",
    "out, latent_loss = model(id_img, aud)"
   ]
  },
  {
   "cell_type": "code",
   "execution_count": 20,
   "metadata": {},
   "outputs": [],
   "source": [
    "vid = vid.to(device)"
   ]
  },
  {
   "cell_type": "code",
   "execution_count": 22,
   "metadata": {},
   "outputs": [],
   "source": [
    "aud = aud.view(75,1,10000)"
   ]
  },
  {
   "cell_type": "code",
   "execution_count": 29,
   "metadata": {},
   "outputs": [],
   "source": [
    "pad = torch.zeros(53,3,128,128).to(device)"
   ]
  },
  {
   "cell_type": "code",
   "execution_count": null,
   "metadata": {},
   "outputs": [],
   "source": [
    "new_aud = torch.cat((aud, pad),0) "
   ]
  },
  {
   "cell_type": "code",
   "execution_count": 31,
   "metadata": {},
   "outputs": [],
   "source": [
    "new_vid = torch.cat((vid, pad),0) "
   ]
  },
  {
   "cell_type": "code",
   "execution_count": 33,
   "metadata": {},
   "outputs": [],
   "source": [
    "new_aud = new_aud.to(device)"
   ]
  },
  {
   "cell_type": "code",
   "execution_count": 62,
   "metadata": {},
   "outputs": [
    {
     "data": {
      "text/plain": [
       "'/home/jarrod/dev/speech-driven-animation/data/aligned_faces/sgii4a.npy'"
      ]
     },
     "execution_count": 62,
     "metadata": {},
     "output_type": "execute_result"
    }
   ],
   "source": [
    "video_names[0]"
   ]
  },
  {
   "cell_type": "code",
   "execution_count": 36,
   "metadata": {},
   "outputs": [],
   "source": [
    "out, latent_loss = model(new_vid, new_aud)"
   ]
  },
  {
   "cell_type": "code",
   "execution_count": 43,
   "metadata": {},
   "outputs": [],
   "source": [
    "output = out.permute(0,2,3,1).cpu().detach().numpy()"
   ]
  },
  {
   "cell_type": "code",
   "execution_count": 39,
   "metadata": {},
   "outputs": [],
   "source": [
    "import skvideo.io as sio\n",
    "import ffmpeg"
   ]
  },
  {
   "cell_type": "code",
   "execution_count": 60,
   "metadata": {},
   "outputs": [],
   "source": [
    "def save_video(video, overwrite=True, experimental_ffmpeg=False, scale=None):\n",
    "      \n",
    "      \n",
    "        \n",
    "        # Save the video file\n",
    "        writer = sio.FFmpegWriter(\"/home/jarrod/dev/vq-vae-2-pytorch/tmp.avi\",\n",
    "                                  inputdict={'-r': str(24) + \"/1\", },\n",
    "                                  outputdict={'-r': str(24) + \"/1\", }\n",
    "                                  )\n",
    "        for i in range(video.shape[0]):\n",
    "#             frame = np.rollaxis(video[i, :, :, :], 0, 3)\n",
    "\n",
    "#             if scale is not None:\n",
    "#                 frame = tf.rescale(frame, scale, anti_aliasing=True, multichannel=True, mode='reflect')\n",
    "\n",
    "            writer.writeFrame(video[i])\n",
    "        writer.close()"
   ]
  },
  {
   "cell_type": "code",
   "execution_count": 61,
   "metadata": {},
   "outputs": [],
   "source": [
    "save_video(output)"
   ]
  },
  {
   "cell_type": "code",
   "execution_count": 42,
   "metadata": {},
   "outputs": [
    {
     "data": {
      "text/plain": [
       "torch.Size([128, 3, 128, 128])"
      ]
     },
     "execution_count": 42,
     "metadata": {},
     "output_type": "execute_result"
    }
   ],
   "source": [
    "out.shape"
   ]
  },
  {
   "cell_type": "code",
   "execution_count": 51,
   "metadata": {},
   "outputs": [],
   "source": [
    "output = np.clip(output,0,1.0)"
   ]
  },
  {
   "cell_type": "code",
   "execution_count": 54,
   "metadata": {},
   "outputs": [],
   "source": [
    "output = output * 255"
   ]
  },
  {
   "cell_type": "code",
   "execution_count": 55,
   "metadata": {},
   "outputs": [],
   "source": [
    "output = output.astype(np.uint8)"
   ]
  },
  {
   "cell_type": "code",
   "execution_count": 59,
   "metadata": {},
   "outputs": [
    {
     "data": {
      "text/plain": [
       "(128, 128, 128, 3)"
      ]
     },
     "execution_count": 59,
     "metadata": {},
     "output_type": "execute_result"
    }
   ],
   "source": [
    "output.shape"
   ]
  },
  {
   "cell_type": "code",
   "execution_count": null,
   "metadata": {},
   "outputs": [],
   "source": []
  },
  {
   "cell_type": "code",
   "execution_count": null,
   "metadata": {},
   "outputs": [],
   "source": []
  },
  {
   "cell_type": "code",
   "execution_count": null,
   "metadata": {},
   "outputs": [],
   "source": []
  },
  {
   "cell_type": "markdown",
   "metadata": {},
   "source": [
    "# Debug"
   ]
  },
  {
   "cell_type": "code",
   "execution_count": null,
   "metadata": {},
   "outputs": [],
   "source": [
    "inp_img = np.moveaxis(img.cpu().detach().numpy(),1,-1)\n",
    "plt.imshow(inp_img[60])\n",
    "plt.show()"
   ]
  },
  {
   "cell_type": "code",
   "execution_count": 47,
   "metadata": {},
   "outputs": [],
   "source": [
    "for i, batch in enumerate(dataloader):\n",
    "    \n",
    "    model.zero_grad()\n",
    "\n",
    "    if batch['image'].shape[0] != 128:\n",
    "        continue\n",
    "    \n",
    "    img = batch['image'].to(device)\n",
    "    aud = batch['audio'].view(128,1,10000).to(device)\n",
    "    id_img = batch['id'].to(device)\n",
    "    \n",
    "    \n",
    "    out, latent_loss = model(img, aud)\n",
    "    break"
   ]
  },
  {
   "cell_type": "code",
   "execution_count": 44,
   "metadata": {},
   "outputs": [],
   "source": [
    "out = out[20].permute(1,2,0).cpu().detach().numpy()\n",
    "target = batch['image'][20].permute(1,2,0).cpu().detach().numpy()\n",
    "diff = np.sqrt(np.square(out - target))"
   ]
  },
  {
   "cell_type": "code",
   "execution_count": 45,
   "metadata": {},
   "outputs": [
    {
     "name": "stderr",
     "output_type": "stream",
     "text": [
      "Clipping input data to the valid range for imshow with RGB data ([0..1] for floats or [0..255] for integers).\n"
     ]
    },
    {
     "data": {
      "image/png": "[encoded data removed]",
      "text/plain": [
       "<Figure size 432x288 with 1 Axes>"
      ]
     },
     "metadata": {
      "needs_background": "light"
     },
     "output_type": "display_data"
    },
    {
     "data": {
      "image/png": "[encoded data removed]",
      "text/plain": [
       "<Figure size 432x288 with 1 Axes>"
      ]
     },
     "metadata": {
      "needs_background": "light"
     },
     "output_type": "display_data"
    },
    {
     "data": {
      "image/png": "[encoded data removed]",
      "text/plain": [
       "<Figure size 432x288 with 1 Axes>"
      ]
     },
     "metadata": {
      "needs_background": "light"
     },
     "output_type": "display_data"
    }
   ],
   "source": [
    "plt.imshow(out)\n",
    "plt.show()\n",
    "plt.imshow(target)\n",
    "plt.show()\n",
    "plt.imshow(diff)\n",
    "plt.show()"
   ]
  },
  {
   "cell_type": "code",
   "execution_count": 34,
   "metadata": {},
   "outputs": [
    {
     "data": {
      "text/plain": [
       "0.5083602"
      ]
     },
     "execution_count": 34,
     "metadata": {},
     "output_type": "execute_result"
    }
   ],
   "source": [
    "np.max(diff)"
   ]
  },
  {
   "cell_type": "code",
   "execution_count": 46,
   "metadata": {},
   "outputs": [
    {
     "data": {
      "text/plain": [
       "(128, 128, 3)"
      ]
     },
     "execution_count": 46,
     "metadata": {},
     "output_type": "execute_result"
    }
   ],
   "source": [
    "out.shape"
   ]
  },
  {
   "cell_type": "code",
   "execution_count": 49,
   "metadata": {},
   "outputs": [],
   "source": [
    "out[:,:,:10,:10] = 1"
   ]
  },
  {
   "cell_type": "code",
   "execution_count": null,
   "metadata": {},
   "outputs": [],
   "source": []
  }
 ],
 "metadata": {
  "kernelspec": {
   "display_name": "Python 3",
   "language": "python",
   "name": "python3"
  },
  "language_info": {
   "codemirror_mode": {
    "name": "ipython",
    "version": 3
   },
   "file_extension": ".py",
   "mimetype": "text/x-python",
   "name": "python",
   "nbconvert_exporter": "python",
   "pygments_lexer": "ipython3",
   "version": "3.7.1"
  }
 },
 "nbformat": 4,
 "nbformat_minor": 2
}
